{
 "cells": [
  {
   "cell_type": "markdown",
   "metadata": {},
   "source": [
    "# Convolutional Neural Network\n",
    "\n",
    "This notebook creates 2 convolutional neural networks, 1 for aligned images and 1 for unaligned raw images.\n",
    "Predictions are then based on the network that provides the higher probability."
   ]
  },
  {
   "cell_type": "code",
   "execution_count": 1,
   "metadata": {
    "collapsed": false
   },
   "outputs": [
    {
     "name": "stderr",
     "output_type": "stream",
     "text": [
      "Using TensorFlow backend.\n"
     ]
    }
   ],
   "source": [
    "import matplotlib.pyplot as plt\n",
    "import numpy as np\n",
    "\n",
    "import tensorflow as tf\n",
    "tf.python.control_flow_ops = tf\n",
    "\n",
    "from keras.models import Sequential\n",
    "from keras.layers import Activation, Dense, Dropout, Flatten\n",
    "from keras.layers.convolutional import Convolution2D, MaxPooling2D, ZeroPadding2D\n",
    "from keras.optimizers import SGD\n",
    "from keras.utils import np_utils\n",
    "from keras import backend as K\n",
    "K.set_image_dim_ordering('th')\n",
    "\n",
    "from sklearn.model_selection import train_test_split\n",
    "from sklearn.metrics import f1_score, confusion_matrix\n",
    "\n",
    "seed = 3244\n",
    "np.random.seed(seed)\n",
    "\n",
    "h = 50  # height of image\n",
    "w = 37  # width of image\n",
    "aligned_h = h\n",
    "aligned_w = h\n",
    "\n",
    "num_classes = 7"
   ]
  },
  {
   "cell_type": "markdown",
   "metadata": {},
   "source": [
    "### Load data used for unaligned model"
   ]
  },
  {
   "cell_type": "code",
   "execution_count": 2,
   "metadata": {
    "collapsed": false
   },
   "outputs": [],
   "source": [
    "# Load original data\n",
    "X = np.load('X_train.npy') # (996, 1850)\n",
    "y = np.load('y_train.npy') # (996, 1)\n",
    "\n",
    "# Split into training and validation set\n",
    "X_train, X_test, y_train_raw, y_test_raw = train_test_split(X, y, test_size=0.2, random_state=seed)\n",
    "\n",
    "# Load generated data for training set\n",
    "X_generated_train = np.load('X_train_generated_train.npy')\n",
    "y_generated_train = np.load('y_train_generated_train.npy')\n",
    "\n",
    "# Add generated data for training set to original training set\n",
    "X_train = np.concatenate([X_train, X_generated_train])\n",
    "y_train_raw = np.concatenate([y_train_raw, y_generated_train])\n",
    "\n",
    "# Load generated data for validation set\n",
    "X_generated_test = np.load('X_train_generated_test.npy')\n",
    "y_generated_test = np.load('y_train_generated_test.npy')\n",
    "\n",
    "# Concatenate with generated data for training set to get all generated data\n",
    "X_generated = np.concatenate([X_generated_train, X_generated_test])\n",
    "y_generated = np.concatenate([y_generated_train, y_generated_test])\n",
    "\n",
    "# Add all generated data to full training set\n",
    "X = np.concatenate([X, X_generated])\n",
    "y = np.concatenate([y, y_generated])"
   ]
  },
  {
   "cell_type": "markdown",
   "metadata": {},
   "source": [
    "### Load data used for aligned model"
   ]
  },
  {
   "cell_type": "code",
   "execution_count": 3,
   "metadata": {
    "collapsed": true
   },
   "outputs": [],
   "source": [
    "# Load original data\n",
    "X_aligned = np.load('X_train_aligned.npy')\n",
    "y_aligned = np.load('y_train_aligned.npy')\n",
    "\n",
    "# Split into training and validation set\n",
    "X_train_aligned, X_test_aligned, y_train_aligned_raw, y_test_aligned_raw = train_test_split(X_aligned, y_aligned, test_size=0.2, random_state=seed)\n",
    "\n",
    "# Load generated data for training set\n",
    "X_generated_train_aligned = np.load('X_train_generated_train_aligned.npy')\n",
    "y_generated_train_aligned = np.load('y_train_generated_train_aligned.npy')\n",
    "\n",
    "# Add generated data for training set to original training set\n",
    "X_train_aligned = np.concatenate([X_train_aligned, X_generated_train_aligned])\n",
    "y_train_aligned_raw = np.concatenate([y_train_aligned_raw, y_generated_train_aligned])\n",
    "\n",
    "# Load generated data for validation set\n",
    "X_generated_test_aligned = np.load('X_train_generated_test_aligned.npy')\n",
    "y_generated_test_aligned = np.load('y_train_generated_test_aligned.npy')\n",
    "\n",
    "# Concatenate with generated data for training set to get all generated data\n",
    "X_generated_aligned = np.concatenate([X_generated_train_aligned, X_generated_test_aligned])\n",
    "y_generated_aligned = np.concatenate([y_generated_train_aligned, y_generated_test_aligned])\n",
    "\n",
    "# Add all generated data to full training set\n",
    "X_aligned = np.concatenate([X_aligned, X_generated_aligned])\n",
    "y_aligned = np.concatenate([y_aligned, y_generated_aligned])"
   ]
  },
  {
   "cell_type": "code",
   "execution_count": 4,
   "metadata": {
    "collapsed": false
   },
   "outputs": [],
   "source": [
    "def shapeData(data, h=h, w=w):\n",
    "    return data.reshape(data.shape[0], 1, h, w).astype('float32')\n",
    "\n",
    "def normalize(data):\n",
    "    return data / 255"
   ]
  },
  {
   "cell_type": "code",
   "execution_count": 5,
   "metadata": {
    "collapsed": false
   },
   "outputs": [],
   "source": [
    "X = normalize(shapeData(X))\n",
    "\n",
    "X_train = normalize(shapeData(X_train))\n",
    "X_test = normalize(shapeData(X_test))\n",
    "\n",
    "X_train_aligned = normalize(shapeData(X_train_aligned, h=aligned_h, w=aligned_w))\n",
    "X_test_aligned = normalize(shapeData(X_test_aligned, h=aligned_h, w=aligned_w))"
   ]
  },
  {
   "cell_type": "code",
   "execution_count": 6,
   "metadata": {
    "collapsed": false
   },
   "outputs": [],
   "source": [
    "# One hot encode outputs, this is required for the CNN\n",
    "y = np_utils.to_categorical(y)\n",
    "\n",
    "y_train = np_utils.to_categorical(y_train_raw)\n",
    "y_test = np_utils.to_categorical(y_test_raw)\n",
    "\n",
    "y_train_aligned = np_utils.to_categorical(y_train_aligned_raw)\n",
    "y_test_aligned = np_utils.to_categorical(y_test_aligned_raw)"
   ]
  },
  {
   "cell_type": "code",
   "execution_count": 7,
   "metadata": {
    "collapsed": false
   },
   "outputs": [],
   "source": [
    "def baseline_model():\n",
    "    \"\"\"Baseline model with 1 convolution, 1 max pooling and 2 fully connected layers\"\"\"\n",
    "    model = Sequential()\n",
    "    model.add(Convolution2D(32, 5, 5, border_mode='valid', input_shape=(1, h, w), activation='relu'))\n",
    "    model.add(MaxPooling2D(pool_size=(2, 2)))\n",
    "    model.add(Dropout(0.2))\n",
    "    model.add(Flatten())\n",
    "    model.add(Dense(128, activation='relu'))\n",
    "    model.add(Dense(num_classes, activation='softmax'))\n",
    "\n",
    "    model.compile(loss='categorical_crossentropy', optimizer='adam', metrics=['accuracy'])\n",
    "    return model"
   ]
  },
  {
   "cell_type": "code",
   "execution_count": 8,
   "metadata": {
    "collapsed": true
   },
   "outputs": [],
   "source": [
    "num_filters = 32  # number of convolutional filters to use\n",
    "pool_size = (2, 2)  # size of pooling area for max pooling\n",
    "kernel_size = (5, 5)  # convolution kernel size\n",
    "\n",
    "def model1():\n",
    "    model = Sequential()\n",
    "    model.add(Convolution2D(30, 5, 5, border_mode='valid', input_shape=(1, h, w), activation='relu'))\n",
    "    model.add(MaxPooling2D(pool_size=(2, 2)))\n",
    "    model.add(Convolution2D(15, 3, 3, activation='relu'))\n",
    "    model.add(MaxPooling2D(pool_size=(2, 2)))\n",
    "    model.add(Dropout(0.2))\n",
    "    model.add(Flatten())\n",
    "    model.add(Dense(128, activation='relu'))\n",
    "    model.add(Dense(50, activation='relu'))\n",
    "    model.add(Dense(num_classes, activation='softmax'))\n",
    "    model.compile(loss='categorical_crossentropy', optimizer='adam', metrics=['accuracy'])\n",
    "    return model\n",
    "\n",
    "def model2():\n",
    "    model = Sequential()\n",
    "    model.add(Convolution2D(32, 5, 5, border_mode='valid', input_shape=(1, h, w), activation='relu'))\n",
    "    model.add(Convolution2D(32, 5, 5, activation='relu'))\n",
    "    model.add(MaxPooling2D(pool_size=(2, 2)))\n",
    "    model.add(Dropout(0.25))\n",
    "\n",
    "    model.add(Convolution2D(64, 3, 3, border_mode='valid', activation='relu'))\n",
    "    model.add(Convolution2D(64, 3, 3, activation='relu'))\n",
    "    model.add(MaxPooling2D(pool_size=(2, 2)))\n",
    "    model.add(Dropout(0.25))\n",
    "\n",
    "    model.add(Flatten())\n",
    "    # Note: Keras does automatic shape inference.\n",
    "    model.add(Dense(256, activation='relu'))\n",
    "    model.add(Dropout(0.5))\n",
    "\n",
    "    model.add(Dense(num_classes, activation='softmax'))\n",
    "    \n",
    "    sgd = SGD(lr=0.1, decay=1e-6, momentum=0.9, nesterov=True)\n",
    "    model.compile(loss='categorical_crossentropy', optimizer=sgd, metrics=['accuracy'])\n",
    "    return model\n",
    "\n",
    "def model3():\n",
    "    model = Sequential()\n",
    "    model.add(Convolution2D(num_filters, kernel_size[0], kernel_size[1],\n",
    "                            border_mode='valid',\n",
    "                            input_shape=(1, h, w)))\n",
    "    model.add(Activation('relu'))\n",
    "    model.add(Convolution2D(num_filters, kernel_size[0], kernel_size[1]))\n",
    "    model.add(Activation('relu'))\n",
    "    model.add(MaxPooling2D(pool_size=pool_size))\n",
    "    model.add(Dropout(0.25))\n",
    "\n",
    "    model.add(Flatten())\n",
    "    model.add(Dense(128))\n",
    "    model.add(Activation('relu'))\n",
    "    model.add(Dropout(0.5))\n",
    "    model.add(Dense(num_classes))\n",
    "    model.add(Activation('softmax'))\n",
    "\n",
    "    model.compile(loss='categorical_crossentropy',\n",
    "                  optimizer='adadelta',\n",
    "                  metrics=['accuracy'])\n",
    "    return model\n",
    "\n",
    "def model4():\n",
    "    model = Sequential()\n",
    "    \n",
    "    model.add(ZeroPadding2D((1,1), input_shape=(1, h, w)))\n",
    "    model.add(Convolution2D(64, 3, 3,  activation=\"relu\"))\n",
    "    model.add(ZeroPadding2D((1, 1)))\n",
    "    model.add(Convolution2D(64, 3, 3, activation=\"relu\"))\n",
    "    model.add(MaxPooling2D(strides=(2,2)))\n",
    "    \n",
    "    model.add(ZeroPadding2D((1, 1)))\n",
    "    model.add(Convolution2D(128, 3, 3, activation=\"relu\"))\n",
    "    model.add(ZeroPadding2D((1, 1)))\n",
    "    model.add(Convolution2D(128, 3, 3, activation=\"relu\"))\n",
    "    model.add(MaxPooling2D(strides=(2,2)))\n",
    "\n",
    "    model.add(ZeroPadding2D((1, 1)))\n",
    "    model.add(Convolution2D(256, 3, 3, activation=\"relu\"))\n",
    "    model.add(ZeroPadding2D((1, 1)))\n",
    "    model.add(Convolution2D(128, 3, 3, activation=\"relu\"))\n",
    "    model.add(ZeroPadding2D((1, 1)))\n",
    "    model.add(Convolution2D(128, 3, 3, activation=\"relu\"))\n",
    "    model.add(ZeroPadding2D((1, 1)))\n",
    "    model.add(Convolution2D(128, 3, 3, activation=\"relu\"))\n",
    "    model.add(MaxPooling2D(strides=(2,2)))\n",
    "\n",
    "    model.add(Flatten())\n",
    "    model.add(Dropout(0.2))\n",
    "    model.add(Dense(128, activation=\"relu\")) # 4096\n",
    "    model.add(Dense(num_classes, activation=\"softmax\"))\n",
    "    \n",
    "    model.summary()\n",
    "    model.compile(loss=\"categorical_crossentropy\", optimizer=\"adadelta\", metrics=[\"accuracy\"])\n",
    "    return model\n",
    "\n",
    "def model5(h=h, w=w):\n",
    "    \"\"\"Final configuration of the convolutional neural network that we found to perform the best\"\"\"\n",
    "    model = Sequential()\n",
    "    model.add(Convolution2D(32, 5, 5, input_shape=(1, h, w), border_mode='valid', activation='relu'))\n",
    "    model.add(MaxPooling2D(pool_size=(2, 2)))\n",
    "    model.add(Dropout(0.25))\n",
    "    \n",
    "    model.add(Convolution2D(64, 5, 5, border_mode='valid', activation=\"relu\"))\n",
    "    model.add(MaxPooling2D(pool_size=(2, 2)))\n",
    "    model.add(Dropout(0.25))\n",
    "    \n",
    "    model.add(Flatten())\n",
    "    model.add(Dense(256, activation='relu'))\n",
    "    model.add(Dense(num_classes, activation='softmax'))\n",
    "\n",
    "    model.summary()\n",
    "    model.compile(loss='categorical_crossentropy', optimizer='adam', metrics=['accuracy'])\n",
    "    return model"
   ]
  },
  {
   "cell_type": "markdown",
   "metadata": {},
   "source": [
    "### Train a network based on the raw training data"
   ]
  },
  {
   "cell_type": "code",
   "execution_count": 9,
   "metadata": {
    "collapsed": false,
    "scrolled": false
   },
   "outputs": [
    {
     "name": "stdout",
     "output_type": "stream",
     "text": [
      "____________________________________________________________________________________________________\n",
      "Layer (type)                     Output Shape          Param #     Connected to                     \n",
      "====================================================================================================\n",
      "convolution2d_1 (Convolution2D)  (None, 32, 46, 33)    832         convolution2d_input_1[0][0]      \n",
      "____________________________________________________________________________________________________\n",
      "maxpooling2d_1 (MaxPooling2D)    (None, 32, 23, 16)    0           convolution2d_1[0][0]            \n",
      "____________________________________________________________________________________________________\n",
      "dropout_1 (Dropout)              (None, 32, 23, 16)    0           maxpooling2d_1[0][0]             \n",
      "____________________________________________________________________________________________________\n",
      "convolution2d_2 (Convolution2D)  (None, 64, 19, 12)    51264       dropout_1[0][0]                  \n",
      "____________________________________________________________________________________________________\n",
      "maxpooling2d_2 (MaxPooling2D)    (None, 64, 9, 6)      0           convolution2d_2[0][0]            \n",
      "____________________________________________________________________________________________________\n",
      "dropout_2 (Dropout)              (None, 64, 9, 6)      0           maxpooling2d_2[0][0]             \n",
      "____________________________________________________________________________________________________\n",
      "flatten_1 (Flatten)              (None, 3456)          0           dropout_2[0][0]                  \n",
      "____________________________________________________________________________________________________\n",
      "dense_1 (Dense)                  (None, 256)           884992      flatten_1[0][0]                  \n",
      "____________________________________________________________________________________________________\n",
      "dense_2 (Dense)                  (None, 7)             1799        dense_1[0][0]                    \n",
      "====================================================================================================\n",
      "Total params: 938887\n",
      "____________________________________________________________________________________________________\n",
      "Train on 1572 samples, validate on 194 samples\n",
      "Epoch 1/40\n",
      "1572/1572 [==============================] - 17s - loss: 1.7082 - acc: 0.3925 - val_loss: 1.6483 - val_acc: 0.4278\n",
      "Epoch 2/40\n",
      "1572/1572 [==============================] - 17s - loss: 1.6634 - acc: 0.4097 - val_loss: 1.5915 - val_acc: 0.4278\n",
      "Epoch 3/40\n",
      "1572/1572 [==============================] - 16s - loss: 1.5312 - acc: 0.4650 - val_loss: 1.4077 - val_acc: 0.5155\n",
      "Epoch 4/40\n",
      "1572/1572 [==============================] - 16s - loss: 1.2731 - acc: 0.5668 - val_loss: 1.1647 - val_acc: 0.5876\n",
      "Epoch 5/40\n",
      "1572/1572 [==============================] - 17s - loss: 1.0353 - acc: 0.6457 - val_loss: 0.9633 - val_acc: 0.6701\n",
      "Epoch 6/40\n",
      "1572/1572 [==============================] - 16s - loss: 0.8609 - acc: 0.7131 - val_loss: 0.8626 - val_acc: 0.7320\n",
      "Epoch 7/40\n",
      "1572/1572 [==============================] - 17s - loss: 0.7385 - acc: 0.7525 - val_loss: 0.8072 - val_acc: 0.7216\n",
      "Epoch 8/40\n",
      "1572/1572 [==============================] - 16s - loss: 0.6253 - acc: 0.7958 - val_loss: 0.6677 - val_acc: 0.7835\n",
      "Epoch 9/40\n",
      "1572/1572 [==============================] - 16s - loss: 0.5028 - acc: 0.8391 - val_loss: 0.5522 - val_acc: 0.8351\n",
      "Epoch 10/40\n",
      "1572/1572 [==============================] - 16s - loss: 0.4359 - acc: 0.8632 - val_loss: 0.4697 - val_acc: 0.8763\n",
      "Epoch 11/40\n",
      "1572/1572 [==============================] - 16s - loss: 0.3792 - acc: 0.8779 - val_loss: 0.4771 - val_acc: 0.8763\n",
      "Epoch 12/40\n",
      "1572/1572 [==============================] - 16s - loss: 0.3014 - acc: 0.9046 - val_loss: 0.4275 - val_acc: 0.8866\n",
      "Epoch 13/40\n",
      "1572/1572 [==============================] - 17s - loss: 0.2738 - acc: 0.9148 - val_loss: 0.3800 - val_acc: 0.9175\n",
      "Epoch 14/40\n",
      "1572/1572 [==============================] - 16s - loss: 0.2235 - acc: 0.9332 - val_loss: 0.4300 - val_acc: 0.8711\n",
      "Epoch 15/40\n",
      "1572/1572 [==============================] - 17s - loss: 0.2279 - acc: 0.9268 - val_loss: 0.3867 - val_acc: 0.9072\n",
      "Epoch 16/40\n",
      "1572/1572 [==============================] - 16s - loss: 0.2143 - acc: 0.9377 - val_loss: 0.3112 - val_acc: 0.9330\n",
      "Epoch 17/40\n",
      "1572/1572 [==============================] - 16s - loss: 0.1782 - acc: 0.9402 - val_loss: 0.3117 - val_acc: 0.9227\n",
      "Epoch 18/40\n",
      "1572/1572 [==============================] - 16s - loss: 0.1285 - acc: 0.9631 - val_loss: 0.3045 - val_acc: 0.9124\n",
      "Epoch 19/40\n",
      "1572/1572 [==============================] - 16s - loss: 0.0928 - acc: 0.9720 - val_loss: 0.3359 - val_acc: 0.9072\n",
      "Epoch 20/40\n",
      "1572/1572 [==============================] - 16s - loss: 0.1041 - acc: 0.9688 - val_loss: 0.3386 - val_acc: 0.9227\n",
      "Epoch 21/40\n",
      "1572/1572 [==============================] - 19s - loss: 0.1026 - acc: 0.9714 - val_loss: 0.3636 - val_acc: 0.9175\n",
      "Epoch 22/40\n",
      "1572/1572 [==============================] - 18s - loss: 0.0770 - acc: 0.9790 - val_loss: 0.2898 - val_acc: 0.9124\n",
      "Epoch 23/40\n",
      "1572/1572 [==============================] - 17s - loss: 0.0790 - acc: 0.9752 - val_loss: 0.3683 - val_acc: 0.9021\n",
      "Epoch 24/40\n",
      "1572/1572 [==============================] - 16s - loss: 0.0615 - acc: 0.9828 - val_loss: 0.3173 - val_acc: 0.9278\n",
      "Epoch 25/40\n",
      "1572/1572 [==============================] - 16s - loss: 0.0490 - acc: 0.9879 - val_loss: 0.3451 - val_acc: 0.9278\n",
      "Epoch 26/40\n",
      "1572/1572 [==============================] - 17s - loss: 0.0690 - acc: 0.9816 - val_loss: 0.3423 - val_acc: 0.9278\n",
      "Epoch 27/40\n",
      "1572/1572 [==============================] - 16s - loss: 0.0454 - acc: 0.9892 - val_loss: 0.2991 - val_acc: 0.9433\n",
      "Epoch 28/40\n",
      "1572/1572 [==============================] - 17s - loss: 0.0564 - acc: 0.9866 - val_loss: 0.2950 - val_acc: 0.9433\n",
      "Epoch 29/40\n",
      "1572/1572 [==============================] - 17s - loss: 0.0491 - acc: 0.9860 - val_loss: 0.3210 - val_acc: 0.9175\n",
      "Epoch 30/40\n",
      "1572/1572 [==============================] - 19s - loss: 0.0617 - acc: 0.9796 - val_loss: 0.3275 - val_acc: 0.9175\n",
      "Epoch 31/40\n",
      "1572/1572 [==============================] - 18s - loss: 0.0782 - acc: 0.9746 - val_loss: 0.4033 - val_acc: 0.9124\n",
      "Epoch 32/40\n",
      "1572/1572 [==============================] - 16s - loss: 0.0623 - acc: 0.9803 - val_loss: 0.3152 - val_acc: 0.9278\n",
      "Epoch 33/40\n",
      "1572/1572 [==============================] - 19s - loss: 0.0361 - acc: 0.9892 - val_loss: 0.3031 - val_acc: 0.9381\n",
      "Epoch 34/40\n",
      "1572/1572 [==============================] - 17s - loss: 0.0310 - acc: 0.9898 - val_loss: 0.2954 - val_acc: 0.9381\n",
      "Epoch 35/40\n",
      "1572/1572 [==============================] - 17s - loss: 0.0237 - acc: 0.9955 - val_loss: 0.3112 - val_acc: 0.9278\n",
      "Epoch 36/40\n",
      "1572/1572 [==============================] - 17s - loss: 0.0428 - acc: 0.9879 - val_loss: 0.2906 - val_acc: 0.9433\n",
      "Epoch 37/40\n",
      "1572/1572 [==============================] - 17s - loss: 0.0286 - acc: 0.9943 - val_loss: 0.3040 - val_acc: 0.9330\n",
      "Epoch 38/40\n",
      "1572/1572 [==============================] - 18s - loss: 0.0388 - acc: 0.9885 - val_loss: 0.3593 - val_acc: 0.9330\n",
      "Epoch 39/40\n",
      "1572/1572 [==============================] - 18s - loss: 0.0308 - acc: 0.9930 - val_loss: 0.3087 - val_acc: 0.9330\n",
      "Epoch 40/40\n",
      "1572/1572 [==============================] - 16s - loss: 0.0242 - acc: 0.9924 - val_loss: 0.2706 - val_acc: 0.9433\n",
      "194/194 [==============================] - 1s     \n"
     ]
    },
    {
     "data": {
      "text/plain": [
       "0.9292760403689071"
      ]
     },
     "execution_count": 9,
     "metadata": {},
     "output_type": "execute_result"
    }
   ],
   "source": [
    "# model = baseline_model()\n",
    "# model = model1()\n",
    "# model = model2()\n",
    "# model = model3()\n",
    "# model = model4()\n",
    "model = model5()\n",
    "\n",
    "nb_epoch = 40\n",
    "batch_size = 50\n",
    "\n",
    "model.fit(X_train, y_train, \n",
    "          validation_data=(X_test, y_test), \n",
    "          nb_epoch=nb_epoch, \n",
    "          batch_size=batch_size, \n",
    "          verbose=1)\n",
    "\n",
    "y_pred = model.predict_classes(X_test)\n",
    "f1_score(y_test_raw, y_pred, average='macro')"
   ]
  },
  {
   "cell_type": "code",
   "execution_count": 10,
   "metadata": {
    "collapsed": false
   },
   "outputs": [
    {
     "data": {
      "image/png": "[encoded data removed]",
      "text/plain": [
       "<matplotlib.figure.Figure at 0x11c23beb8>"
      ]
     },
     "metadata": {},
     "output_type": "display_data"
    },
    {
     "data": {
      "text/plain": [
       "array([[ 9,  0,  0,  0,  0,  0,  0],\n",
       "       [ 1, 32,  0,  0,  0,  0,  0],\n",
       "       [ 0,  1, 12,  0,  0,  0,  1],\n",
       "       [ 1,  1,  0, 80,  0,  1,  0],\n",
       "       [ 0,  0,  0,  1, 15,  1,  0],\n",
       "       [ 0,  0,  0,  1,  0, 15,  0],\n",
       "       [ 0,  1,  0,  1,  0,  0, 20]])"
      ]
     },
     "execution_count": 10,
     "metadata": {},
     "output_type": "execute_result"
    }
   ],
   "source": [
    "cm = confusion_matrix(y_test_raw, y_pred)\n",
    "plt.matshow(cm)\n",
    "plt.title('Confusion matrix')\n",
    "plt.colorbar()\n",
    "plt.ylabel('True label')\n",
    "plt.xlabel('Predicted label')\n",
    "plt.show()\n",
    "cm"
   ]
  },
  {
   "cell_type": "markdown",
   "metadata": {},
   "source": [
    "### Train a network based on the aligned training data"
   ]
  },
  {
   "cell_type": "code",
   "execution_count": 11,
   "metadata": {
    "collapsed": false,
    "scrolled": false
   },
   "outputs": [
    {
     "name": "stdout",
     "output_type": "stream",
     "text": [
      "____________________________________________________________________________________________________\n",
      "Layer (type)                     Output Shape          Param #     Connected to                     \n",
      "====================================================================================================\n",
      "convolution2d_3 (Convolution2D)  (None, 32, 46, 46)    832         convolution2d_input_2[0][0]      \n",
      "____________________________________________________________________________________________________\n",
      "maxpooling2d_3 (MaxPooling2D)    (None, 32, 23, 23)    0           convolution2d_3[0][0]            \n",
      "____________________________________________________________________________________________________\n",
      "dropout_3 (Dropout)              (None, 32, 23, 23)    0           maxpooling2d_3[0][0]             \n",
      "____________________________________________________________________________________________________\n",
      "convolution2d_4 (Convolution2D)  (None, 64, 19, 19)    51264       dropout_3[0][0]                  \n",
      "____________________________________________________________________________________________________\n",
      "maxpooling2d_4 (MaxPooling2D)    (None, 64, 9, 9)      0           convolution2d_4[0][0]            \n",
      "____________________________________________________________________________________________________\n",
      "dropout_4 (Dropout)              (None, 64, 9, 9)      0           maxpooling2d_4[0][0]             \n",
      "____________________________________________________________________________________________________\n",
      "flatten_2 (Flatten)              (None, 5184)          0           dropout_4[0][0]                  \n",
      "____________________________________________________________________________________________________\n",
      "dense_3 (Dense)                  (None, 256)           1327360     flatten_2[0][0]                  \n",
      "____________________________________________________________________________________________________\n",
      "dense_4 (Dense)                  (None, 7)             1799        dense_3[0][0]                    \n",
      "====================================================================================================\n",
      "Total params: 1381255\n",
      "____________________________________________________________________________________________________\n",
      "Train on 1514 samples, validate on 179 samples\n",
      "Epoch 1/40\n",
      "1514/1514 [==============================] - 29s - loss: 1.7094 - acc: 0.3791 - val_loss: 1.6246 - val_acc: 0.4358\n",
      "Epoch 2/40\n",
      "1514/1514 [==============================] - 25s - loss: 1.6151 - acc: 0.4207 - val_loss: 1.5508 - val_acc: 0.5363\n",
      "Epoch 3/40\n",
      "1514/1514 [==============================] - 25s - loss: 1.4214 - acc: 0.4775 - val_loss: 1.2642 - val_acc: 0.6313\n",
      "Epoch 4/40\n",
      "1514/1514 [==============================] - 24s - loss: 1.0548 - acc: 0.6328 - val_loss: 0.7550 - val_acc: 0.7318\n",
      "Epoch 5/40\n",
      "1514/1514 [==============================] - 25s - loss: 0.7246 - acc: 0.7609 - val_loss: 0.5158 - val_acc: 0.8547\n",
      "Epoch 6/40\n",
      "1514/1514 [==============================] - 23s - loss: 0.5428 - acc: 0.8170 - val_loss: 0.4106 - val_acc: 0.8603\n",
      "Epoch 7/40\n",
      "1514/1514 [==============================] - 23s - loss: 0.4025 - acc: 0.8672 - val_loss: 0.3263 - val_acc: 0.8939\n",
      "Epoch 8/40\n",
      "1514/1514 [==============================] - 23s - loss: 0.3103 - acc: 0.8996 - val_loss: 0.2473 - val_acc: 0.9050\n",
      "Epoch 9/40\n",
      "1514/1514 [==============================] - 25s - loss: 0.2916 - acc: 0.9069 - val_loss: 0.2187 - val_acc: 0.9441\n",
      "Epoch 10/40\n",
      "1514/1514 [==============================] - 25s - loss: 0.1993 - acc: 0.9412 - val_loss: 0.1876 - val_acc: 0.9497\n",
      "Epoch 11/40\n",
      "1514/1514 [==============================] - 27s - loss: 0.1520 - acc: 0.9538 - val_loss: 0.1625 - val_acc: 0.9497\n",
      "Epoch 12/40\n",
      "1514/1514 [==============================] - 25s - loss: 0.1249 - acc: 0.9610 - val_loss: 0.1514 - val_acc: 0.9497\n",
      "Epoch 13/40\n",
      "1514/1514 [==============================] - 25s - loss: 0.1102 - acc: 0.9630 - val_loss: 0.1283 - val_acc: 0.9497\n",
      "Epoch 14/40\n",
      "1514/1514 [==============================] - 23s - loss: 0.0979 - acc: 0.9703 - val_loss: 0.1262 - val_acc: 0.9609\n",
      "Epoch 15/40\n",
      "1514/1514 [==============================] - 23s - loss: 0.0929 - acc: 0.9709 - val_loss: 0.1403 - val_acc: 0.9553\n",
      "Epoch 16/40\n",
      "1514/1514 [==============================] - 22s - loss: 0.0905 - acc: 0.9736 - val_loss: 0.1258 - val_acc: 0.9665\n",
      "Epoch 17/40\n",
      "1514/1514 [==============================] - 22s - loss: 0.0686 - acc: 0.9795 - val_loss: 0.1110 - val_acc: 0.9609\n",
      "Epoch 18/40\n",
      "1514/1514 [==============================] - 22s - loss: 0.0606 - acc: 0.9841 - val_loss: 0.0930 - val_acc: 0.9721\n",
      "Epoch 19/40\n",
      "1514/1514 [==============================] - 24s - loss: 0.0477 - acc: 0.9828 - val_loss: 0.0762 - val_acc: 0.9553\n",
      "Epoch 20/40\n",
      "1514/1514 [==============================] - 26s - loss: 0.0370 - acc: 0.9894 - val_loss: 0.0618 - val_acc: 0.9777\n",
      "Epoch 21/40\n",
      "1514/1514 [==============================] - 23s - loss: 0.0256 - acc: 0.9934 - val_loss: 0.0833 - val_acc: 0.9777\n",
      "Epoch 22/40\n",
      "1514/1514 [==============================] - 23s - loss: 0.0317 - acc: 0.9901 - val_loss: 0.0920 - val_acc: 0.9721\n",
      "Epoch 23/40\n",
      "1514/1514 [==============================] - 23s - loss: 0.0417 - acc: 0.9861 - val_loss: 0.0974 - val_acc: 0.9665\n",
      "Epoch 24/40\n",
      "1514/1514 [==============================] - 22s - loss: 0.0273 - acc: 0.9947 - val_loss: 0.0869 - val_acc: 0.9665\n",
      "Epoch 25/40\n",
      "1514/1514 [==============================] - 25s - loss: 0.0226 - acc: 0.9934 - val_loss: 0.0940 - val_acc: 0.9721\n",
      "Epoch 26/40\n",
      "1514/1514 [==============================] - 24s - loss: 0.0174 - acc: 0.9954 - val_loss: 0.1300 - val_acc: 0.9553\n",
      "Epoch 27/40\n",
      "1514/1514 [==============================] - 26s - loss: 0.0245 - acc: 0.9901 - val_loss: 0.1126 - val_acc: 0.9609\n",
      "Epoch 28/40\n",
      "1514/1514 [==============================] - 24s - loss: 0.0324 - acc: 0.9861 - val_loss: 0.1031 - val_acc: 0.9665\n",
      "Epoch 29/40\n",
      "1514/1514 [==============================] - 23s - loss: 0.0265 - acc: 0.9927 - val_loss: 0.0984 - val_acc: 0.9777\n",
      "Epoch 30/40\n",
      "1514/1514 [==============================] - 23s - loss: 0.0194 - acc: 0.9941 - val_loss: 0.0642 - val_acc: 0.9777\n",
      "Epoch 31/40\n",
      "1514/1514 [==============================] - 24s - loss: 0.0118 - acc: 0.9987 - val_loss: 0.0949 - val_acc: 0.9609\n",
      "Epoch 32/40\n",
      "1514/1514 [==============================] - 23s - loss: 0.0102 - acc: 0.9974 - val_loss: 0.1146 - val_acc: 0.9665\n",
      "Epoch 33/40\n",
      "1514/1514 [==============================] - 27s - loss: 0.0309 - acc: 0.9881 - val_loss: 0.1246 - val_acc: 0.9665\n",
      "Epoch 34/40\n",
      "1514/1514 [==============================] - 23s - loss: 0.0169 - acc: 0.9960 - val_loss: 0.0987 - val_acc: 0.9721\n",
      "Epoch 35/40\n",
      "1514/1514 [==============================] - 23s - loss: 0.0204 - acc: 0.9927 - val_loss: 0.0736 - val_acc: 0.9777\n",
      "Epoch 36/40\n",
      "1514/1514 [==============================] - 24s - loss: 0.0154 - acc: 0.9974 - val_loss: 0.0585 - val_acc: 0.9777\n",
      "Epoch 37/40\n",
      "1514/1514 [==============================] - 24s - loss: 0.0109 - acc: 0.9974 - val_loss: 0.0502 - val_acc: 0.9777\n",
      "Epoch 38/40\n",
      "1514/1514 [==============================] - 23s - loss: 0.0108 - acc: 0.9980 - val_loss: 0.0788 - val_acc: 0.9721\n",
      "Epoch 39/40\n",
      "1514/1514 [==============================] - 25s - loss: 0.0088 - acc: 0.9987 - val_loss: 0.0710 - val_acc: 0.9777\n",
      "Epoch 40/40\n",
      "1514/1514 [==============================] - 23s - loss: 0.0035 - acc: 1.0000 - val_loss: 0.0873 - val_acc: 0.9777\n",
      "179/179 [==============================] - 1s     \n"
     ]
    },
    {
     "data": {
      "text/plain": [
       "0.96189694376781454"
      ]
     },
     "execution_count": 11,
     "metadata": {},
     "output_type": "execute_result"
    }
   ],
   "source": [
    "model = model5(h=aligned_h, w=aligned_w)\n",
    "\n",
    "model.fit(X_train_aligned, y_train_aligned, \n",
    "          validation_data=(X_test_aligned, y_test_aligned),\n",
    "          nb_epoch=nb_epoch, \n",
    "          batch_size=batch_size, \n",
    "          verbose=1)\n",
    "\n",
    "y_pred_aligned = model.predict_classes(X_test_aligned)\n",
    "f1_score(y_test_aligned_raw, y_pred_aligned, average='macro')"
   ]
  },
  {
   "cell_type": "code",
   "execution_count": 12,
   "metadata": {
    "collapsed": false
   },
   "outputs": [
    {
     "data": {
      "image/png": "[encoded data removed]",
      "text/plain": [
       "<matplotlib.figure.Figure at 0x113b57c50>"
      ]
     },
     "metadata": {},
     "output_type": "display_data"
    },
    {
     "data": {
      "text/plain": [
       "array([[10,  0,  0,  0,  0,  0,  0],\n",
       "       [ 0, 34,  1,  0,  0,  0,  0],\n",
       "       [ 1,  0, 13,  0,  0,  0,  0],\n",
       "       [ 0,  0,  0, 78,  0,  0,  0],\n",
       "       [ 0,  0,  0,  1, 11,  0,  0],\n",
       "       [ 0,  0,  0,  0,  1, 11,  0],\n",
       "       [ 0,  0,  0,  0,  0,  0, 18]])"
      ]
     },
     "execution_count": 12,
     "metadata": {},
     "output_type": "execute_result"
    }
   ],
   "source": [
    "cm = confusion_matrix(y_test_aligned_raw, y_pred_aligned)\n",
    "plt.matshow(cm)\n",
    "plt.title('Confusion matrix')\n",
    "plt.colorbar()\n",
    "plt.ylabel('True label')\n",
    "plt.xlabel('Predicted label')\n",
    "plt.show()\n",
    "cm"
   ]
  },
  {
   "cell_type": "markdown",
   "metadata": {},
   "source": [
    "### Train a full model on the entire given dataset\n",
    "This includes generated images"
   ]
  },
  {
   "cell_type": "code",
   "execution_count": null,
   "metadata": {
    "collapsed": false,
    "scrolled": true
   },
   "outputs": [],
   "source": [
    "full_model = model5()\n",
    "full_model.fit(X, y, nb_epoch=nb_epoch, batch_size=batch_size, verbose=1)"
   ]
  },
  {
   "cell_type": "markdown",
   "metadata": {},
   "source": [
    "### Train a full model on the aligned images derived from the entire given dataset\n",
    "This includes generated images"
   ]
  },
  {
   "cell_type": "code",
   "execution_count": null,
   "metadata": {
    "collapsed": false,
    "scrolled": false
   },
   "outputs": [],
   "source": [
    "X_aligned = normalize(shapeData(X_aligned, h=aligned_h, w=aligned_w))\n",
    "y_aligned = np_utils.to_categorical(y_aligned)\n",
    "\n",
    "full_model_aligned = model5(h=aligned_h, w=aligned_w)\n",
    "full_model_aligned.fit(X_aligned, y_aligned, nb_epoch=nb_epoch, batch_size=batch_size, verbose=1)"
   ]
  },
  {
   "cell_type": "markdown",
   "metadata": {},
   "source": [
    "### Use the above 2 models to predict the labels of the given test set\n",
    "The test set with its images aligned are also used"
   ]
  },
  {
   "cell_type": "code",
   "execution_count": null,
   "metadata": {
    "collapsed": false
   },
   "outputs": [],
   "source": [
    "X_test_given = normalize(shapeData(np.load('X_test.npy')))\n",
    "X_test_given_aligned = normalize(shapeData(np.load('X_test_aligned.npy'), h=aligned_h, w=aligned_w))\n",
    "\n",
    "classes_unaligned = full_model.predict_classes(X_test_given)\n",
    "classes_aligned = full_model_aligned.predict_classes(X_test_given_aligned)\n",
    "\n",
    "prob_unaligned = full_model.predict_proba(X_test_given)\n",
    "prob_aligned = full_model_aligned.predict_proba(X_test_given_aligned)"
   ]
  },
  {
   "cell_type": "code",
   "execution_count": null,
   "metadata": {
    "collapsed": false
   },
   "outputs": [],
   "source": [
    "print(classes_unaligned)\n",
    "print(classes_aligned)"
   ]
  },
  {
   "cell_type": "code",
   "execution_count": null,
   "metadata": {
    "collapsed": false
   },
   "outputs": [],
   "source": [
    "# Retrieved from aligning the images, these are the indices of images where no face was detected\n",
    "idx_no_face = [25, 85, 104, 106, 125, 131, 180, 202, 211, 233, 238, 244, 279, 283, 304, 309]\n",
    "\n",
    "updated_classes = classes_aligned.tolist()\n",
    "updated_prob = prob_aligned.tolist()\n",
    "\n",
    "# Insert placeholder \"None\" to indicate that no class was derived for images with no face detected\n",
    "for i in idx_no_face:\n",
    "    updated_classes.insert(i, None)\n",
    "    updated_prob.insert(i, None)"
   ]
  },
  {
   "cell_type": "markdown",
   "metadata": {},
   "source": [
    "#### Find the final class labels from an ensemble of the 2 models"
   ]
  },
  {
   "cell_type": "code",
   "execution_count": null,
   "metadata": {
    "collapsed": false
   },
   "outputs": [],
   "source": [
    "def get_max(lst):\n",
    "    if lst:\n",
    "        return max(lst), lst.index(max(lst))\n",
    "    else:\n",
    "        return None, None\n",
    "\n",
    "final_classes = []\n",
    "\n",
    "# Find the predicted class with the highest probability from the 2 model predictions\n",
    "for idx, (unaligned_prob, aligned_prob) in enumerate(zip(prob_unaligned, updated_prob)):\n",
    "    unaligned_highest_prob, unaligned_class = get_max(unaligned_prob.tolist())\n",
    "    aligned_highest_prob, aligned_class = get_max(aligned_prob)\n",
    "    \n",
    "    if aligned_highest_prob is None or unaligned_highest_prob > aligned_highest_prob:\n",
    "        final_classes.append(unaligned_class)\n",
    "    elif aligned_highest_prob >= unaligned_highest_prob:\n",
    "        final_classes.append(aligned_class)\n",
    "    else:\n",
    "        print(idx, unaligned_highest_prob, unaligned_class, aligned_highest_prob, aligned_class)\n",
    "        \n",
    "print(final_classes)"
   ]
  },
  {
   "cell_type": "markdown",
   "metadata": {},
   "source": [
    "### Save the predictions"
   ]
  },
  {
   "cell_type": "code",
   "execution_count": null,
   "metadata": {
    "collapsed": false,
    "scrolled": false
   },
   "outputs": [],
   "source": [
    "with open(\"predictions.csv\", \"w\") as f:\n",
    "    f.write(\"ImageId,PredictedClass\")\n",
    "    for idx, label in enumerate(final_classes):\n",
    "        f.write(\"\\n{0},{1}\".format(idx, label))"
   ]
  }
 ],
 "metadata": {
  "anaconda-cloud": {},
  "kernelspec": {
   "display_name": "Python 3",
   "language": "python",
   "name": "python3"
  },
  "language_info": {
   "codemirror_mode": {
    "name": "ipython",
    "version": 3
   },
   "file_extension": ".py",
   "mimetype": "text/x-python",
   "name": "python",
   "nbconvert_exporter": "python",
   "pygments_lexer": "ipython3",
   "version": "3.5.2"
  }
 },
 "nbformat": 4,
 "nbformat_minor": 1
}
